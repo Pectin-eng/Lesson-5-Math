{
  "nbformat": 4,
  "nbformat_minor": 0,
  "metadata": {
    "kernelspec": {
      "display_name": "Python 3",
      "language": "python",
      "name": "python3"
    },
    "language_info": {
      "codemirror_mode": {
        "name": "ipython",
        "version": 3
      },
      "file_extension": ".py",
      "mimetype": "text/x-python",
      "name": "python",
      "nbconvert_exporter": "python",
      "pygments_lexer": "ipython3",
      "version": "3.6.0"
    },
    "colab": {
      "name": "Копия 2.3.ipynb",
      "provenance": [],
      "collapsed_sections": []
    }
  },
  "cells": [
    {
      "cell_type": "code",
      "metadata": {
        "id": "ytL4YkuhOg4B",
        "colab": {
          "base_uri": "https://localhost:8080/"
        },
        "outputId": "8e925e84-86b8-4a6e-b18c-804a90a81b5d"
      },
      "source": [
        "%matplotlib inline\n",
        "import numpy as np\n",
        "import matplotlib.pyplot as plt\n",
        "\n",
        "c = 0\n",
        "d = 0\n",
        "for i in range(0, 37):\n",
        "    a = input('Ваша ставка ')\n",
        "    b = np.random.uniform()\n",
        "    if b == a:\n",
        "      c = c + 1\n",
        "      break\n",
        "    elif a == 'стоп':\n",
        "      break\n",
        "    else:\n",
        "      d = d + 1\n",
        "print(c, d)"
      ],
      "execution_count": 9,
      "outputs": [
        {
          "output_type": "stream",
          "text": [
            "Ваша ставка 7\n",
            "Ваша ставка 9\n",
            "Ваша ставка 4\n",
            "Ваша ставка стоп\n",
            "0 3\n"
          ],
          "name": "stdout"
        }
      ]
    }
  ]
}
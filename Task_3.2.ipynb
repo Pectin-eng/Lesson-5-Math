{
  "nbformat": 4,
  "nbformat_minor": 0,
  "metadata": {
    "kernelspec": {
      "display_name": "Python 3",
      "language": "python",
      "name": "python3"
    },
    "language_info": {
      "codemirror_mode": {
        "name": "ipython",
        "version": 3
      },
      "file_extension": ".py",
      "mimetype": "text/x-python",
      "name": "python",
      "nbconvert_exporter": "python",
      "pygments_lexer": "ipython3",
      "version": "3.6.0"
    },
    "colab": {
      "name": "Копия 2.3.ipynb",
      "provenance": [],
      "collapsed_sections": []
    }
  },
  "cells": [
    {
      "cell_type": "code",
      "metadata": {
        "id": "ytL4YkuhOg4B",
        "colab": {
          "base_uri": "https://localhost:8080/"
        },
        "outputId": "7a87ca90-3edd-411f-99bd-1ff7a6088b28"
      },
      "source": [
        "%matplotlib inline\n",
        "import numpy as np\n",
        "import math as math\n",
        "k = 3\n",
        "n = 100\n",
        "x0 = np.random.randint(0, 100, n)\n",
        "x1 = np.random.randint(0, 100, n)\n",
        "x2 = np.random.randint(0, 100, n)\n",
        "x3 = np.random.randint(0, 100, n)\n",
        "x4 = np.random.randint(0, 100, n)\n",
        "x5 = np.random.randint(0, 100, n)\n",
        "x6 = np.random.randint(0, 100, n)\n",
        "x7 = np.random.randint(0, 100, n)\n",
        "x8 = np.random.randint(0, 100, n)\n",
        "x9 = np.random.randint(0, 100, n)\n",
        "y = x0 + x1 + x2 + x3 + x4 + x5 + x6 + x7 + x8 + x9\n",
        "\n",
        "for i in range(0, n):\n",
        "  if y[i] == 2:\n",
        "    k = k + 1\n",
        "\n",
        "C = math.factorial(n)/(math.factorial(k) * math.factorial(n - k))\n",
        "P = (0.5**n) * (0.5**(n - k)) * C\n",
        "print(k, n, k/n)\n",
        "print(P)\n",
        "print('Вероятность получения', k, 'успешных результатов из', n, 'испытаний: ', P)\n"
      ],
      "execution_count": 21,
      "outputs": [
        {
          "output_type": "stream",
          "text": [
            "3 100 0.03\n",
            "8.050092563441173e-55\n",
            "Вероятность получения 3 успешных результатов из 100 испытаний:  8.050092563441173e-55\n"
          ],
          "name": "stdout"
        }
      ]
    }
  ]
}
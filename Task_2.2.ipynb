{
  "nbformat": 4,
  "nbformat_minor": 0,
  "metadata": {
    "kernelspec": {
      "display_name": "Python 3",
      "language": "python",
      "name": "python3"
    },
    "language_info": {
      "codemirror_mode": {
        "name": "ipython",
        "version": 3
      },
      "file_extension": ".py",
      "mimetype": "text/x-python",
      "name": "python",
      "nbconvert_exporter": "python",
      "pygments_lexer": "ipython3",
      "version": "3.6.0"
    },
    "colab": {
      "name": "Копия 2.3.ipynb",
      "provenance": [],
      "collapsed_sections": []
    }
  },
  "cells": [
    {
      "cell_type": "code",
      "metadata": {
        "id": "ytL4YkuhOg4B",
        "colab": {
          "base_uri": "https://localhost:8080/",
          "height": 296
        },
        "outputId": "891d10ca-238c-4fa3-fdba-8ec08640f867"
      },
      "source": [
        "%matplotlib inline\n",
        "import numpy as np\n",
        "import matplotlib.pyplot as plt\n",
        "\n",
        "x0 = np.random.rand(100)\n",
        "x1 = np.random.rand(100)\n",
        "x2 = np.random.rand(100)\n",
        "x3 = np.random.rand(100)\n",
        "x4 = np.random.rand(100)\n",
        "x5 = np.random.rand(100)\n",
        "x6 = np.random.rand(100)\n",
        "x7 = np.random.rand(100)\n",
        "x8 = np.random.rand(100)\n",
        "x9 = np.random.rand(100)\n",
        "y = x0 + x1 + x2 + x3 + x4 + x5 + x6 + x7 + x8 + x9\n",
        "num_bins = 10\n",
        "n, bins, patches = plt.hist(y, num_bins)\n",
        "plt.xlabel('Numbers')\n",
        "plt.ylabel('Probability')"
      ],
      "execution_count": 26,
      "outputs": [
        {
          "output_type": "execute_result",
          "data": {
            "text/plain": [
              "Text(0, 0.5, 'Probability')"
            ]
          },
          "metadata": {
            "tags": []
          },
          "execution_count": 26
        },
        {
          "output_type": "display_data",
          "data": {
            "image/png": "[encoded data removed]",
            "text/plain": [
              "<Figure size 432x288 with 1 Axes>"
            ]
          },
          "metadata": {
            "tags": [],
            "needs_background": "light"
          }
        }
      ]
    }
  ]
}
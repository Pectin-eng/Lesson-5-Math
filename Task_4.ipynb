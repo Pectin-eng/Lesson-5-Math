{
  "nbformat": 4,
  "nbformat_minor": 0,
  "metadata": {
    "kernelspec": {
      "display_name": "Python 3",
      "language": "python",
      "name": "python3"
    },
    "language_info": {
      "codemirror_mode": {
        "name": "ipython",
        "version": 3
      },
      "file_extension": ".py",
      "mimetype": "text/x-python",
      "name": "python",
      "nbconvert_exporter": "python",
      "pygments_lexer": "ipython3",
      "version": "3.6.0"
    },
    "colab": {
      "name": "Копия 2.3.ipynb",
      "provenance": [],
      "collapsed_sections": []
    }
  },
  "cells": [
    {
      "cell_type": "code",
      "metadata": {
        "colab": {
          "base_uri": "https://localhost:8080/"
        },
        "id": "4Yib2BYSbmcq",
        "outputId": "bb947459-ab24-4eb0-c181-84e32257a55c"
      },
      "source": [
        "import itertools\n",
        "for i in itertools.permutations('8492', 3):\n",
        "  print(''.join(str(x) for x in i))"
      ],
      "execution_count": 22,
      "outputs": [
        {
          "output_type": "stream",
          "text": [
            "849\n",
            "842\n",
            "894\n",
            "892\n",
            "824\n",
            "829\n",
            "489\n",
            "482\n",
            "498\n",
            "492\n",
            "428\n",
            "429\n",
            "984\n",
            "982\n",
            "948\n",
            "942\n",
            "928\n",
            "924\n",
            "284\n",
            "289\n",
            "248\n",
            "249\n",
            "298\n",
            "294\n"
          ],
          "name": "stdout"
        }
      ]
    }
  ]
}
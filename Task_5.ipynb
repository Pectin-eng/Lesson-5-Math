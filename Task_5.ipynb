{
  "nbformat": 4,
  "nbformat_minor": 0,
  "metadata": {
    "kernelspec": {
      "display_name": "Python 3",
      "language": "python",
      "name": "python3"
    },
    "language_info": {
      "codemirror_mode": {
        "name": "ipython",
        "version": 3
      },
      "file_extension": ".py",
      "mimetype": "text/x-python",
      "name": "python",
      "nbconvert_exporter": "python",
      "pygments_lexer": "ipython3",
      "version": "3.6.0"
    },
    "colab": {
      "name": "Копия 2.3.ipynb",
      "provenance": [],
      "collapsed_sections": []
    }
  },
  "cells": [
    {
      "cell_type": "code",
      "metadata": {
        "colab": {
          "base_uri": "https://localhost:8080/",
          "height": 390
        },
        "id": "4Yib2BYSbmcq",
        "outputId": "35e9e253-82e9-4fe7-84ca-1559199a7681"
      },
      "source": [
        "import numpy as np\n",
        "import matplotlib.pyplot as plt\n",
        "from statistics import mean\n",
        "%matplotlib inline\n",
        "a = 100\n",
        "b = 0.8\n",
        "x = np.random.rand(a)\n",
        "y = b * x + (1 - b) * np.random.rand(a)\n",
        "plt.plot(x, y, 'o')\n",
        "plt.xlabel('x')\n",
        "plt.ylabel('y')\n",
        "plt.ylim(0,1) \n",
        "plt.grid(True)\n",
        "plt.show()\n",
        "c = np.corrcoef(x, y)\n",
        "d = np.vstack([x, np.ones(len(x))]).T\n",
        "e = np.linalg.lstsq(d, x)[0]\n",
        "r = ((np.sum(x) - mean(x)) * (np.sum(y) - mean(y)))/(np.sqrt(((np.sum(x) - mean(x))**2) * ((np.sum(y) - mean(y))**2)))\n",
        "print(c)\n",
        "print(r)"
      ],
      "execution_count": 42,
      "outputs": [
        {
          "output_type": "display_data",
          "data": {
            "image/png": "[encoded data removed]",
            "text/plain": [
              "<Figure size 432x288 with 1 Axes>"
            ]
          },
          "metadata": {
            "tags": [],
            "needs_background": "light"
          }
        },
        {
          "output_type": "stream",
          "text": [
            "[[1.         0.97004236]\n",
            " [0.97004236 1.        ]]\n",
            "1.0\n"
          ],
          "name": "stdout"
        },
        {
          "output_type": "stream",
          "text": [
            "/usr/local/lib/python3.7/dist-packages/ipykernel_launcher.py:17: FutureWarning: `rcond` parameter will change to the default of machine precision times ``max(M, N)`` where M and N are the input matrix dimensions.\n",
            "To use the future default and silence this warning we advise to pass `rcond=None`, to keep using the old, explicitly pass `rcond=-1`.\n"
          ],
          "name": "stderr"
        }
      ]
    }
  ]
}
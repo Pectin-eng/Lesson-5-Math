{
  "nbformat": 4,
  "nbformat_minor": 0,
  "metadata": {
    "kernelspec": {
      "display_name": "Python 3",
      "language": "python",
      "name": "python3"
    },
    "language_info": {
      "codemirror_mode": {
        "name": "ipython",
        "version": 3
      },
      "file_extension": ".py",
      "mimetype": "text/x-python",
      "name": "python",
      "nbconvert_exporter": "python",
      "pygments_lexer": "ipython3",
      "version": "3.6.0"
    },
    "colab": {
      "name": "Копия 2.3.ipynb",
      "provenance": [],
      "collapsed_sections": []
    }
  },
  "cells": [
    {
      "cell_type": "code",
      "metadata": {
        "id": "ytL4YkuhOg4B",
        "colab": {
          "base_uri": "https://localhost:8080/"
        },
        "outputId": "15e8f4f3-a883-427c-e790-09c27950adf5"
      },
      "source": [
        "%matplotlib inline\n",
        "import numpy as np\n",
        "import math as math\n",
        "k = 2\n",
        "n = 4\n",
        "x0 = np.random.randint(0, 100, n)\n",
        "x1 = np.random.randint(0, 100, n)\n",
        "x2 = np.random.randint(0, 100, n)\n",
        "x3 = np.random.randint(0, 100, n)\n",
        "x4 = np.random.randint(0, 100, n)\n",
        "x5 = np.random.randint(0, 100, n)\n",
        "x6 = np.random.randint(0, 100, n)\n",
        "x7 = np.random.randint(0, 100, n)\n",
        "x8 = np.random.randint(0, 100, n)\n",
        "x9 = np.random.randint(0, 100, n)\n",
        "y = x0 + x1 + x2 + x3 + x4 + x5 + x6 + x7 + x8 + x9\n",
        "\n",
        "for i in range(0, n):\n",
        "  if y[i] == 2:\n",
        "    k = k + 1\n",
        "\n",
        "C = math.factorial(4)/(math.factorial(2) * math.factorial(4 - 2))\n",
        "P = (0.5**n) * (0.5**(n - k)) * C\n",
        "print(k, n, k/n)\n",
        "print(C)\n",
        "print(P)\n"
      ],
      "execution_count": 14,
      "outputs": [
        {
          "output_type": "stream",
          "text": [
            "2 4 0.5\n",
            "6.0\n",
            "0.09375\n"
          ],
          "name": "stdout"
        }
      ]
    }
  ]
}
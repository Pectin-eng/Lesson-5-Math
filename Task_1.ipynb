{
  "nbformat": 4,
  "nbformat_minor": 0,
  "metadata": {
    "kernelspec": {
      "display_name": "Python 3",
      "language": "python",
      "name": "python3"
    },
    "language_info": {
      "codemirror_mode": {
        "name": "ipython",
        "version": 3
      },
      "file_extension": ".py",
      "mimetype": "text/x-python",
      "name": "python",
      "nbconvert_exporter": "python",
      "pygments_lexer": "ipython3",
      "version": "3.6.0"
    },
    "colab": {
      "name": "Копия 2.3.ipynb",
      "provenance": [],
      "collapsed_sections": []
    }
  },
  "cells": [
    {
      "cell_type": "code",
      "metadata": {
        "id": "ytL4YkuhOg4B",
        "colab": {
          "base_uri": "https://localhost:8080/"
        },
        "outputId": "d5c2015d-ed58-4ca6-b639-20f8ba0e908c"
      },
      "source": [
        "%matplotlib inline\n",
        "import numpy as np\n",
        "import matplotlib.pyplot as plt\n",
        "\n",
        "for i in range(0, 37):\n",
        "    a = input('Ваша ставка ')\n",
        "    b = np.random.uniform()\n",
        "    if b == a:\n",
        "      print('Сектор ', \"{:.0f}\".format(b), 'Вы победили!')\n",
        "      break\n",
        "    elif a == 'стоп':\n",
        "      break\n",
        "    else:\n",
        "      print('Сектор ', \"{:.0f}\".format(b))"
      ],
      "execution_count": 6,
      "outputs": [
        {
          "output_type": "stream",
          "text": [
            "Ваша ставка 3\n",
            "Сектор  1\n",
            "Ваша ставка 9\n",
            "Сектор  0\n",
            "Ваша ставка стоп\n"
          ],
          "name": "stdout"
        }
      ]
    }
  ]
}